{
 "cells": [
  {
   "cell_type": "code",
   "id": "initial_id",
   "metadata": {
    "collapsed": true,
    "ExecuteTime": {
     "end_time": "2025-03-16T20:42:37.162630Z",
     "start_time": "2025-03-16T20:42:36.819704Z"
    }
   },
   "source": [
    "import os\n",
    "import pandas as pd\n",
    "\n",
    "os.chdir(\"/Users/candicechan/Desktop/sta141b final proj\")\n",
    "print(os.getcwd())"
   ],
   "outputs": [
    {
     "name": "stdout",
     "output_type": "stream",
     "text": [
      "/Users/candicechan/Desktop/sta141b final proj\n"
     ]
    }
   ],
   "execution_count": 1
  },
  {
   "metadata": {
    "ExecuteTime": {
     "end_time": "2025-03-16T20:42:40.126994Z",
     "start_time": "2025-03-16T20:42:40.119379Z"
    }
   },
   "cell_type": "code",
   "source": [
    "# ROUND 1 OF FILTERING\n",
    "df = pd.read_csv(\"no_unknowns_yelp_restaurants_davis.csv\")"
   ],
   "id": "203d92a9a653fb0",
   "outputs": [],
   "execution_count": 2
  },
  {
   "metadata": {
    "ExecuteTime": {
     "end_time": "2025-03-16T20:42:47.636495Z",
     "start_time": "2025-03-16T20:42:47.630537Z"
    }
   },
   "cell_type": "code",
   "source": [
    "# 1) Filter by PRICE: only keep restaurants with $ or $$\n",
    "df_filtered_price = df[df[\"price\"].isin([\"$\", \"$$\"])]"
   ],
   "id": "63af356ec60112c7",
   "outputs": [],
   "execution_count": 3
  },
  {
   "metadata": {
    "ExecuteTime": {
     "end_time": "2025-03-16T20:42:50.858951Z",
     "start_time": "2025-03-16T20:42:50.854001Z"
    }
   },
   "cell_type": "code",
   "source": [
    "# 2) Filter by REVIEW COUNT: only keep restaurants with >= 100 reviews\n",
    "df_filtered_review_count = df_filtered_price[df_filtered_price[\"review_count\"] >= 100]"
   ],
   "id": "53c6b2cbed17f8eb",
   "outputs": [],
   "execution_count": 4
  },
  {
   "metadata": {
    "ExecuteTime": {
     "end_time": "2025-03-16T20:42:52.206473Z",
     "start_time": "2025-03-16T20:42:52.203456Z"
    }
   },
   "cell_type": "code",
   "source": [
    "# 3) Filter by RATING: only keep restaurants with >= 3 stars\n",
    "df_filtered_final = df_filtered_review_count[df_filtered_review_count[\"rating\"] >= 3]"
   ],
   "id": "1d62ca1db82c3e80",
   "outputs": [],
   "execution_count": 5
  },
  {
   "metadata": {
    "ExecuteTime": {
     "end_time": "2025-03-16T20:42:53.328339Z",
     "start_time": "2025-03-16T20:42:53.325393Z"
    }
   },
   "cell_type": "code",
   "source": "print(f\"Number of restaurants after filtering: {df_filtered_final.shape[0]}\")",
   "id": "100393dafbe24631",
   "outputs": [
    {
     "name": "stdout",
     "output_type": "stream",
     "text": [
      "Number of restaurants after filtering: 95\n"
     ]
    }
   ],
   "execution_count": 6
  },
  {
   "metadata": {
    "ExecuteTime": {
     "end_time": "2025-03-16T20:43:02.497721Z",
     "start_time": "2025-03-16T20:43:02.490540Z"
    }
   },
   "cell_type": "code",
   "source": "df_filtered_final.to_csv(\"round_1_filtering.csv\")",
   "id": "8fc8290bac1fab76",
   "outputs": [],
   "execution_count": 7
  },
  {
   "metadata": {
    "ExecuteTime": {
     "end_time": "2025-03-16T20:43:04.192575Z",
     "start_time": "2025-03-16T20:43:04.185296Z"
    }
   },
   "cell_type": "code",
   "source": [
    "# ROUND 2 OF FILTERING\n",
    "df_filtered_final = pd.read_csv(\"round_1_filtering.csv\")"
   ],
   "id": "b69d39d0e9bf9efb",
   "outputs": [],
   "execution_count": 8
  },
  {
   "metadata": {
    "ExecuteTime": {
     "end_time": "2025-03-16T20:43:16.594040Z",
     "start_time": "2025-03-16T20:43:16.585965Z"
    }
   },
   "cell_type": "code",
   "source": [
    "# Remove first column containing unnecessary indices\n",
    "df_filtered_final = df_filtered_final.iloc[:, 1:]"
   ],
   "id": "370f4b9a902e6d92",
   "outputs": [],
   "execution_count": 10
  },
  {
   "metadata": {
    "ExecuteTime": {
     "end_time": "2025-03-16T20:43:18.010287Z",
     "start_time": "2025-03-16T20:43:18.005826Z"
    }
   },
   "cell_type": "code",
   "source": [
    "# 1) ROUND 2: Split by PRICE\n",
    "df_dollar = df_filtered_final[df_filtered_final['price'] == '$']\n",
    "df_double_dollar = df_filtered_final[df_filtered_final['price'] == '$$']"
   ],
   "id": "c6891fb48defc4a0",
   "outputs": [],
   "execution_count": 11
  },
  {
   "metadata": {
    "ExecuteTime": {
     "end_time": "2025-03-16T20:43:20.840635Z",
     "start_time": "2025-03-16T20:43:20.836279Z"
    }
   },
   "cell_type": "code",
   "source": [
    "# 2) ROUND 2: Filter by review count (keep only restaurants with 100+ reviews)\n",
    "df_dollar = df_dollar[df_dollar['review_count'] >= 100]\n",
    "df_double_dollar = df_double_dollar[df_double_dollar['review_count'] >= 100]"
   ],
   "id": "a5ea889091854e6a",
   "outputs": [],
   "execution_count": 12
  },
  {
   "metadata": {
    "ExecuteTime": {
     "end_time": "2025-03-16T20:43:28.073569Z",
     "start_time": "2025-03-16T20:43:28.068995Z"
    }
   },
   "cell_type": "code",
   "source": [
    "# 3) Define rating groups within each subset\n",
    "df_dollar_low = df_dollar[(df_dollar['rating'] >= 3.0) & (df_dollar['rating'] < 4.0)]\n",
    "df_dollar_high = df_dollar[df_dollar['rating'] >= 4.0]"
   ],
   "id": "b022b7f502833f0a",
   "outputs": [],
   "execution_count": 14
  },
  {
   "metadata": {
    "ExecuteTime": {
     "end_time": "2025-03-16T20:43:33.247487Z",
     "start_time": "2025-03-16T20:43:33.240826Z"
    }
   },
   "cell_type": "code",
   "source": [
    "# Group by rating\n",
    "df_double_dollar_low = df_double_dollar[(df_double_dollar['rating'] >= 3.0) & (df_double_dollar['rating'] < 4.0)]\n",
    "df_double_dollar_high = df_double_dollar[df_double_dollar['rating'] >= 4.0]"
   ],
   "id": "46fe21e95b1db523",
   "outputs": [],
   "execution_count": 15
  },
  {
   "metadata": {
    "ExecuteTime": {
     "end_time": "2025-03-16T20:43:36.104188Z",
     "start_time": "2025-03-16T20:43:36.099833Z"
    }
   },
   "cell_type": "code",
   "source": [
    "# Save results into new DataFrames\n",
    "df_dollar_low_final = df_dollar_low.copy()\n",
    "df_dollar_high_final = df_dollar_high.copy()\n",
    "df_double_dollar_low_final = df_double_dollar_low.copy()\n",
    "df_double_dollar_high_final = df_double_dollar_high.copy()"
   ],
   "id": "28c8513d8e987482",
   "outputs": [],
   "execution_count": 16
  },
  {
   "metadata": {
    "ExecuteTime": {
     "end_time": "2025-03-16T20:43:44.211500Z",
     "start_time": "2025-03-16T20:43:44.201294Z"
    }
   },
   "cell_type": "code",
   "source": [
    "df_dollar_low_final.to_csv(\"moderately_rated_dollar.csv\", index=False)\n",
    "df_dollar_high_final.to_csv(\"highly_rated_dollar.csv\", index=False)\n",
    "df_double_dollar_low_final.to_csv(\"moderately_rated_double_dollar.csv\", index=False)\n",
    "df_double_dollar_high_final.to_csv(\"highly_rated_double_dollar.csv\", index=False)"
   ],
   "id": "9b43e244aac333ad",
   "outputs": [],
   "execution_count": 17
  },
  {
   "metadata": {
    "ExecuteTime": {
     "end_time": "2025-03-16T20:43:49.594611Z",
     "start_time": "2025-03-16T20:43:49.587833Z"
    }
   },
   "cell_type": "code",
   "source": [
    "# Count the number of restaurants in each filtered group\n",
    "count_dollar_low = df_dollar_low.shape[0]\n",
    "count_dollar_high = df_dollar_high.shape[0]\n",
    "count_double_dollar_low = df_double_dollar_low.shape[0]\n",
    "count_double_dollar_high = df_double_dollar_high.shape[0]\n",
    "\n",
    "# Total for each price category\n",
    "total_dollar = count_dollar_low + count_dollar_high\n",
    "total_double_dollar = count_double_dollar_low + count_double_dollar_high\n",
    "\n",
    "print(f\"Total $ restaurants: {total_dollar}\")\n",
    "print(f\"  - Moderately-rated $: {count_dollar_low}\")\n",
    "print(f\"  - Highly-rated $: {count_dollar_high}\")\n",
    "print(f\"Total $$ restaurants: {total_double_dollar}\")\n",
    "print(f\"  - Moderately-rated $$: {count_double_dollar_low}\")\n",
    "print(f\"  - Highly-rated $$: {count_double_dollar_high}\")"
   ],
   "id": "6c125677b9df2052",
   "outputs": [
    {
     "name": "stdout",
     "output_type": "stream",
     "text": [
      "Total $ restaurants: 25\n",
      "  - Moderately-rated $: 15\n",
      "  - Highly-rated $: 10\n",
      "Total $$ restaurants: 70\n",
      "  - Moderately-rated $$: 42\n",
      "  - Highly-rated $$: 28\n"
     ]
    }
   ],
   "execution_count": 18
  }
 ],
 "metadata": {
  "kernelspec": {
   "display_name": "Python 3",
   "language": "python",
   "name": "python3"
  },
  "language_info": {
   "codemirror_mode": {
    "name": "ipython",
    "version": 2
   },
   "file_extension": ".py",
   "mimetype": "text/x-python",
   "name": "python",
   "nbconvert_exporter": "python",
   "pygments_lexer": "ipython2",
   "version": "2.7.6"
  }
 },
 "nbformat": 4,
 "nbformat_minor": 5
}
