{
 "cells": [
  {
   "cell_type": "code",
   "execution_count": 2,
   "id": "bbc19a04-0fd7-441e-9f01-cb8c752afba8",
   "metadata": {},
   "outputs": [
    {
     "name": "stdout",
     "output_type": "stream",
     "text": [
      "/Users/candicechan/Desktop/sta141b final proj\n"
     ]
    }
   ],
   "source": [
    "import os\n",
    "os.chdir(\"/Users/candicechan/Desktop/sta141b final proj\")\n",
    "print(os.getcwd())"
   ]
  },
  {
   "cell_type": "code",
   "execution_count": 4,
   "id": "5eed2d9a-4aca-4948-8fe8-5f30d7b8881a",
   "metadata": {},
   "outputs": [],
   "source": [
    "import requests\n",
    "import pandas as pd\n",
    "import time\n",
    "\n",
    "url = \"https://api.yelp.com/v3/businesses/search\"\n",
    "api_key = \"MsdajOA6rF0Wt3lBAKm8dqjSBy-X2aIOlKT8BFWkhV_-fuYTMWHHNKFfDRb-Ff3WCXvBb7VQyK9RtVvn_mXnp1HEcaVNhB9Kh_yPHFPuJBnIPoDPi_2NBOjkVbfPZ3Yx\"\n",
    "headers = {\n",
    "    'Authorization': 'Bearer ' + api_key\n",
    "}"
   ]
  },
  {
   "cell_type": "code",
   "execution_count": null,
   "id": "27ebd426-2bb2-465b-926b-0bf2dbd8c6ab",
   "metadata": {},
   "outputs": [],
   "source": [
    "# EXTRACTING RESTAURANT INFO USING YELP API\n",
    "all_restaurants = []\n",
    "max_results = 240  # Yelp's hard limit\n",
    "batch_size = 50  # Max results per request\n",
    "\n",
    "# Loop with adjusted offset to avoid exceeding 240\n",
    "for offset in range(0, 200, batch_size):\n",
    "    params = {\n",
    "        \"location\": \"Davis, CA\",\n",
    "        \"term\": \"restaurants\",\n",
    "        \"limit\": batch_size,\n",
    "        \"offset\": offset\n",
    "    }\n",
    "\n",
    "    response = requests.get(url, headers=headers, params=params)\n",
    "\n",
    "    if response.status_code == 200:\n",
    "        data = response.json()\n",
    "        businesses = data.get(\"businesses\", [])\n",
    "\n",
    "        if not businesses:\n",
    "            break\n",
    "\n",
    "        for biz in businesses:\n",
    "            city = biz[\"location\"].get(\"city\", \"\").strip().lower()\n",
    "\n",
    "            # Keep only restaurants in Davis\n",
    "            if city == \"davis\":\n",
    "                price = biz.get(\"price\", \"Unknown\")\n",
    "\n",
    "                all_restaurants.append({\n",
    "                    \"name\": biz[\"name\"],\n",
    "                    \"rating\": biz[\"rating\"],\n",
    "                    \"review_count\": biz[\"review_count\"],\n",
    "                    \"address\": \", \".join(biz[\"location\"][\"display_address\"]),\n",
    "                    \"cuisine\": [cat[\"title\"] for cat in biz[\"categories\"]],\n",
    "                    \"price\": price,\n",
    "                    \"yelp_url\": f\"https://www.yelp.com/biz/{biz['id']}\"\n",
    "                })\n",
    "\n",
    "        print(f\"Retrieved {len(all_restaurants)} restaurants so far...\")\n",
    "\n",
    "        time.sleep(1)  # Avoid hitting API rate limits\n",
    "    else:\n",
    "        print(f\"Error: {response.status_code}, {response.text}\")\n",
    "        break\n",
    "\n",
    "df = pd.DataFrame(all_restaurants)\n",
    "\n",
    "print(f\"Total restaurants collected: {len(df)} (Only in Davis, CA)\")"
   ]
  },
  {
   "cell_type": "code",
   "execution_count": null,
   "id": "2817e1e3-4e23-437b-8b35-615628be5d8b",
   "metadata": {},
   "outputs": [],
   "source": [
    "# Remove the restaurants with \"Unknown\" price\n",
    "# Load the fixed dataset\n",
    "file_path = \"yelp_restaurants_davis_fixed.csv\"\n",
    "df = pd.read_csv(file_path)\n",
    "\n",
    "# Remove restaurants where price is \"Unknown\"\n",
    "df_cleaned = df[df[\"price\"] != \"Unknown\"]\n",
    "\n",
    "# Save the cleaned dataset\n",
    "output_path = \"no_unknowns_yelp_restaurants_davis.csv\"\n",
    "df_cleaned.to_csv(output_path, index=False)\n",
    "\n",
    "# Print confirmation\n",
    "print(f\"Original restaurant count: {len(df)}\")\n",
    "print(f\"Cleaned restaurant count (price known): {len(df_cleaned)}\")\n",
    "print(f\"Saved cleaned dataset to: {output_path}\")"
   ]
  }
 ],
 "metadata": {
  "kernelspec": {
   "display_name": "Python [conda env:base] *",
   "language": "python",
   "name": "conda-base-py"
  },
  "language_info": {
   "codemirror_mode": {
    "name": "ipython",
    "version": 3
   },
   "file_extension": ".py",
   "mimetype": "text/x-python",
   "name": "python",
   "nbconvert_exporter": "python",
   "pygments_lexer": "ipython3",
   "version": "3.12.7"
  }
 },
 "nbformat": 4,
 "nbformat_minor": 5
}
