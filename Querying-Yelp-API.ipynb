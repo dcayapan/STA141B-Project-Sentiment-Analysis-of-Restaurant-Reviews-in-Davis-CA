{
 "cells": [
  {
   "metadata": {
    "ExecuteTime": {
     "end_time": "2025-03-16T20:40:14.751516Z",
     "start_time": "2025-03-16T20:40:14.743759Z"
    }
   },
   "cell_type": "code",
   "source": [
    "import os\n",
    "os.chdir(\"/Users/candicechan/Desktop/sta141b final proj\")\n",
    "print(os.getcwd())"
   ],
   "id": "edbfc7d54e1009f5",
   "outputs": [
    {
     "name": "stdout",
     "output_type": "stream",
     "text": [
      "/Users/candicechan/Desktop/sta141b final proj\n"
     ]
    }
   ],
   "execution_count": 5
  },
  {
   "metadata": {
    "ExecuteTime": {
     "end_time": "2025-03-16T20:40:15.616049Z",
     "start_time": "2025-03-16T20:40:15.612064Z"
    }
   },
   "cell_type": "code",
   "source": [
    "import requests\n",
    "import pandas as pd\n",
    "import time\n",
    "\n",
    "url = \"https://api.yelp.com/v3/businesses/search\"\n",
    "# API key obtained through Yelp Fusion API's free Base plan\n",
    "api_key = \"MsdajOA6rF0Wt3lBAKm8dqjSBy-X2aIOlKT8BFWkhV_-fuYTMWHHNKFfDRb-Ff3WCXvBb7VQyK9RtVvn_mXnp1HEcaVNhB9Kh_yPHFPuJBnIPoDPi_2NBOjkVbfPZ3Yx\"\n",
    "headers = {\n",
    "    'Authorization': 'Bearer ' + api_key\n",
    "}"
   ],
   "id": "331cb26d8ce14070",
   "outputs": [],
   "execution_count": 6
  },
  {
   "metadata": {
    "ExecuteTime": {
     "end_time": "2025-03-16T20:40:24.349787Z",
     "start_time": "2025-03-16T20:40:16.631915Z"
    }
   },
   "cell_type": "code",
   "source": [
    "# Extracting restaurant info with Yelp API\n",
    "all_restaurants = []\n",
    "max_results = 240  # Yelp's hard limit\n",
    "batch_size = 50  # Max results per request\n",
    "\n",
    "# Loop with offset to avoid exceeding 240\n",
    "for offset in range(0, 200, batch_size): # Stops at 190\n",
    "    params = {\n",
    "        \"location\": \"Davis, CA\",\n",
    "        \"term\": \"restaurants\",\n",
    "        \"limit\": batch_size,\n",
    "        \"offset\": offset\n",
    "    }\n",
    "\n",
    "    response = requests.get(url, headers=headers, params=params)\n",
    "\n",
    "    if response.status_code == 200:\n",
    "        data = response.json()\n",
    "        businesses = data.get(\"businesses\", [])\n",
    "\n",
    "        if not businesses:  # Stop if no more results\n",
    "            break\n",
    "\n",
    "        for biz in businesses:\n",
    "            city = biz[\"location\"].get(\"city\", \"\").strip().lower()\n",
    "\n",
    "            # Keep only restaurants in Davis\n",
    "            if city == \"davis\":\n",
    "                price = biz.get(\"price\", \"Unknown\")\n",
    "\n",
    "                all_restaurants.append({\n",
    "                    \"name\": biz[\"name\"],\n",
    "                    \"rating\": biz[\"rating\"],\n",
    "                    \"review_count\": biz[\"review_count\"],\n",
    "                    \"address\": \", \".join(biz[\"location\"][\"display_address\"]),\n",
    "                    \"cuisine\": [cat[\"title\"] for cat in biz[\"categories\"]],\n",
    "                    \"price\": price,\n",
    "                    \"yelp_url\": f\"https://www.yelp.com/biz/{biz['id']}\"\n",
    "                })\n",
    "\n",
    "        print(f\"Retrieved {len(all_restaurants)} restaurants so far...\")\n",
    "\n",
    "        time.sleep(1)  # Avoid hitting API rate limits\n",
    "    else:\n",
    "        print(f\"Error: {response.status_code}, {response.text}\")\n",
    "        break\n",
    "\n",
    "df = pd.DataFrame(all_restaurants)\n",
    "\n",
    "print(f\"Total restaurants collected: {len(df)} (Only in Davis, CA)\")"
   ],
   "id": "6bff0e6f6334ca5",
   "outputs": [
    {
     "name": "stdout",
     "output_type": "stream",
     "text": [
      "Retrieved 50 restaurants so far...\n",
      "Retrieved 99 restaurants so far...\n",
      "Retrieved 146 restaurants so far...\n",
      "Retrieved 183 restaurants so far...\n",
      "Total restaurants collected: 183 (Only in Davis, CA)\n"
     ]
    }
   ],
   "execution_count": 7
  },
  {
   "metadata": {
    "ExecuteTime": {
     "end_time": "2025-03-16T20:40:29.931179Z",
     "start_time": "2025-03-16T20:40:29.915342Z"
    }
   },
   "cell_type": "code",
   "source": [
    "# Remove restaurants with \"Unknown\" price\n",
    "file_path = \"yelp_restaurants_davis_fixed.csv\"\n",
    "df = pd.read_csv(file_path)\n",
    "\n",
    "df_cleaned = df[df[\"price\"] != \"Unknown\"]\n",
    "\n",
    "output_path = \"no_unknowns_yelp_restaurants_davis.csv\"\n",
    "df_cleaned.to_csv(output_path, index=False)\n",
    "\n",
    "print(f\"Original restaurant count: {len(df)}\")\n",
    "print(f\"Cleaned restaurant count (price known): {len(df_cleaned)}\")"
   ],
   "id": "6d312efad1bad1b5",
   "outputs": [
    {
     "name": "stdout",
     "output_type": "stream",
     "text": [
      "Original restaurant count: 183\n",
      "Cleaned restaurant count (price known): 140\n"
     ]
    }
   ],
   "execution_count": 8
  }
 ],
 "metadata": {
  "kernelspec": {
   "display_name": "Python 3",
   "language": "python",
   "name": "python3"
  },
  "language_info": {
   "codemirror_mode": {
    "name": "ipython",
    "version": 2
   },
   "file_extension": ".py",
   "mimetype": "text/x-python",
   "name": "python",
   "nbconvert_exporter": "python",
   "pygments_lexer": "ipython2",
   "version": "2.7.6"
  }
 },
 "nbformat": 4,
 "nbformat_minor": 5
}
